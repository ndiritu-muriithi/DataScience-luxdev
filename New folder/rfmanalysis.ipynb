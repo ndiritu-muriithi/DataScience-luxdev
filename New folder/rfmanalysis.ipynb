{
 "cells": [
  {
   "cell_type": "code",
   "execution_count": 12,
   "id": "fb7f8c8e",
   "metadata": {},
   "outputs": [
    {
     "name": "stdout",
     "output_type": "stream",
     "text": [
      "Requirement already satisfied: pandas in c:\\users\\chaloh\\anaconda3\\lib\\site-packages (1.4.2)\n",
      "Requirement already satisfied: pytz>=2020.1 in c:\\users\\chaloh\\anaconda3\\lib\\site-packages (from pandas) (2021.3)\n",
      "Requirement already satisfied: python-dateutil>=2.8.1 in c:\\users\\chaloh\\anaconda3\\lib\\site-packages (from pandas) (2.8.2)\n",
      "Requirement already satisfied: numpy>=1.18.5 in c:\\users\\chaloh\\anaconda3\\lib\\site-packages (from pandas) (1.21.5)\n",
      "Requirement already satisfied: six>=1.5 in c:\\users\\chaloh\\anaconda3\\lib\\site-packages (from python-dateutil>=2.8.1->pandas) (1.16.0)\n"
     ]
    }
   ],
   "source": [
    "! pip install pandas\n"
   ]
  },
  {
   "cell_type": "code",
   "execution_count": 17,
   "id": "fd2f1899",
   "metadata": {},
   "outputs": [],
   "source": [
    "import os\n",
    "import timeit\n",
    "import multiprocessing as mp\n",
    "import concurrent.futures\n",
    "import numpy as np\n",
    "import pandas as pd"
   ]
  },
  {
   "cell_type": "code",
   "execution_count": 2,
   "id": "d75a29e1",
   "metadata": {},
   "outputs": [],
   "source": [
    "import pandas as pd\n"
   ]
  },
  {
   "cell_type": "code",
   "execution_count": 20,
   "id": "ee17ad02",
   "metadata": {},
   "outputs": [],
   "source": [
    "df = pd.read_csv(r'C:\\Users\\Chaloh\\Downloads\\rfm_data.csv')"
   ]
  },
  {
   "cell_type": "code",
   "execution_count": 21,
   "id": "8479207c",
   "metadata": {},
   "outputs": [],
   "source": [
    "df['PurchaseDate'] = pd.to_datetime(df['PurchaseDate'])\n"
   ]
  },
  {
   "cell_type": "code",
   "execution_count": null,
   "id": "16fd80a7",
   "metadata": {},
   "outputs": [],
   "source": []
  },
  {
   "cell_type": "code",
   "execution_count": 60,
   "id": "52821d07",
   "metadata": {},
   "outputs": [],
   "source": [
    "today = df['PurchaseDate'].max()\n",
    "rfm_data = df.groupby('CustomerID').agg({\n",
    "    'PurchaseDate': lambda x: (today - x.max()).days,\n",
    "    'TransactionAmount': 'sum',\n",
    "    'OrderID': 'count'\n",
    "}).reset_index()"
   ]
  },
  {
   "cell_type": "code",
   "execution_count": 61,
   "id": "6be46539",
   "metadata": {},
   "outputs": [],
   "source": [
    "rfm_data.columns = ['CustomerID', 'PurchaseDate', 'TransactionAmount', 'OrderID']"
   ]
  },
  {
   "cell_type": "code",
   "execution_count": 62,
   "id": "4aac663e",
   "metadata": {},
   "outputs": [],
   "source": [
    "rfm_data['R_Score'] = pd.qcut(rfm_data['PurchaseDate'], q=4, labels=False)\n",
    "rfm_data['F_Score'] = pd.qcut(rfm_data['TransactionAmount'], q=4, labels=False)\n",
    "rfm_data['M_Score'] = pd.qcut(rfm_data['CustomerID'], q=4, labels=False)"
   ]
  },
  {
   "cell_type": "code",
   "execution_count": 63,
   "id": "74b6e4a7",
   "metadata": {},
   "outputs": [],
   "source": [
    "rfm_data['RFM_Score'] = rfm_data['R_Score'].astype(str) + rfm_data['F_Score'].astype(str) + rfm_data['M_Score'].astype(str)"
   ]
  },
  {
   "cell_type": "code",
   "execution_count": 65,
   "id": "d1ddf6a0",
   "metadata": {},
   "outputs": [],
   "source": [
    "rfm_data['Segment'] = pd.cut(\n",
    "    rfm_data['RFM_Score'].astype(int),\n",
    "    bins=[0, 133, 233, 333, 444, 555],\n",
    "    labels=['Need Attention', 'At Risk', 'Potential Loyalists', 'Loyal Customers', 'Champions']\n",
    ")\n"
   ]
  },
  {
   "cell_type": "code",
   "execution_count": 66,
   "id": "a5ab48d8",
   "metadata": {},
   "outputs": [
    {
     "name": "stdout",
     "output_type": "stream",
     "text": [
      "     CustomerID  PurchaseDate  OrderID  TransactionAmount RFM_Score  \\\n",
      "0          1011            33        2            1129.02       230   \n",
      "1          1025            21        1             359.29       110   \n",
      "2          1029             0        1             704.99       020   \n",
      "3          1046            43        1             859.82       230   \n",
      "4          1049            13        1             225.72       000   \n",
      "..          ...           ...      ...                ...       ...   \n",
      "941        9941            42        1             960.53       233   \n",
      "942        9950            38        1             679.11       223   \n",
      "943        9954            12        1             798.01       033   \n",
      "944        9985            57        1              36.10       303   \n",
      "945        9991            30        1             626.81       123   \n",
      "\n",
      "                 Segment  \n",
      "0                At Risk  \n",
      "1         Need Attention  \n",
      "2         Need Attention  \n",
      "3                At Risk  \n",
      "4                    NaN  \n",
      "..                   ...  \n",
      "941              At Risk  \n",
      "942              At Risk  \n",
      "943       Need Attention  \n",
      "944  Potential Loyalists  \n",
      "945       Need Attention  \n",
      "\n",
      "[946 rows x 6 columns]\n"
     ]
    }
   ],
   "source": [
    "print(rfm_data[['CustomerID', 'PurchaseDate','OrderID', 'TransactionAmount',  'RFM_Score', 'Segment']])\n",
    "               "
   ]
  },
  {
   "cell_type": "code",
   "execution_count": null,
   "id": "ac2917e8",
   "metadata": {},
   "outputs": [],
   "source": []
  },
  {
   "cell_type": "code",
   "execution_count": null,
   "id": "7eb292f7",
   "metadata": {},
   "outputs": [],
   "source": []
  }
 ],
 "metadata": {
  "kernelspec": {
   "display_name": "Python 3 (ipykernel)",
   "language": "python",
   "name": "python3"
  },
  "language_info": {
   "codemirror_mode": {
    "name": "ipython",
    "version": 3
   },
   "file_extension": ".py",
   "mimetype": "text/x-python",
   "name": "python",
   "nbconvert_exporter": "python",
   "pygments_lexer": "ipython3",
   "version": "3.9.12"
  }
 },
 "nbformat": 4,
 "nbformat_minor": 5
}
