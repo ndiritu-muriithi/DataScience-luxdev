{
 "cells": [
  {
   "cell_type": "code",
   "execution_count": 1,
   "id": "7067916c",
   "metadata": {},
   "outputs": [
    {
     "ename": "ModuleNotFoundError",
     "evalue": "No module named 'pyforest'",
     "output_type": "error",
     "traceback": [
      "\u001b[1;31m---------------------------------------------------------------------------\u001b[0m",
      "\u001b[1;31mModuleNotFoundError\u001b[0m                       Traceback (most recent call last)",
      "Input \u001b[1;32mIn [1]\u001b[0m, in \u001b[0;36m<cell line: 1>\u001b[1;34m()\u001b[0m\n\u001b[1;32m----> 1\u001b[0m \u001b[38;5;28;01mimport\u001b[39;00m \u001b[38;5;21;01mpyforest\u001b[39;00m\n",
      "\u001b[1;31mModuleNotFoundError\u001b[0m: No module named 'pyforest'"
     ]
    }
   ],
   "source": [
    "import pyforest"
   ]
  },
  {
   "cell_type": "code",
   "execution_count": 2,
   "id": "60a18c8f",
   "metadata": {},
   "outputs": [
    {
     "ename": "ModuleNotFoundError",
     "evalue": "No module named 'pyforest'",
     "output_type": "error",
     "traceback": [
      "\u001b[1;31m---------------------------------------------------------------------------\u001b[0m",
      "\u001b[1;31mModuleNotFoundError\u001b[0m                       Traceback (most recent call last)",
      "Input \u001b[1;32mIn [2]\u001b[0m, in \u001b[0;36m<cell line: 1>\u001b[1;34m()\u001b[0m\n\u001b[1;32m----> 1\u001b[0m \u001b[38;5;28;01mimport\u001b[39;00m \u001b[38;5;21;01mpyforest\u001b[39;00m\n",
      "\u001b[1;31mModuleNotFoundError\u001b[0m: No module named 'pyforest'"
     ]
    }
   ],
   "source": [
    "import pyforest"
   ]
  },
  {
   "cell_type": "code",
   "execution_count": 3,
   "id": "7786f94b",
   "metadata": {},
   "outputs": [],
   "source": [
    "import pandas\n"
   ]
  },
  {
   "cell_type": "code",
   "execution_count": 4,
   "id": "22d46f8c",
   "metadata": {},
   "outputs": [
    {
     "ename": "ModuleNotFoundError",
     "evalue": "No module named 'pyforest'",
     "output_type": "error",
     "traceback": [
      "\u001b[1;31m---------------------------------------------------------------------------\u001b[0m",
      "\u001b[1;31mModuleNotFoundError\u001b[0m                       Traceback (most recent call last)",
      "Input \u001b[1;32mIn [4]\u001b[0m, in \u001b[0;36m<cell line: 1>\u001b[1;34m()\u001b[0m\n\u001b[1;32m----> 1\u001b[0m \u001b[38;5;28;01mimport\u001b[39;00m \u001b[38;5;21;01mpyforest\u001b[39;00m\n",
      "\u001b[1;31mModuleNotFoundError\u001b[0m: No module named 'pyforest'"
     ]
    }
   ],
   "source": [
    "import pyforest"
   ]
  },
  {
   "cell_type": "code",
   "execution_count": 5,
   "id": "e9fb474c",
   "metadata": {},
   "outputs": [],
   "source": [
    "import pandas as pd\n",
    "import numpy as np\n",
    "import seaborn as sns"
   ]
  },
  {
   "cell_type": "code",
   "execution_count": 7,
   "id": "b5975092",
   "metadata": {},
   "outputs": [],
   "source": [
    "data = pd.read_csv(r\"C:\\Users\\Chaloh\\Downloads\\Instagram TV Product Report.csv\")"
   ]
  },
  {
   "cell_type": "code",
   "execution_count": 8,
   "id": "a53cbc62",
   "metadata": {},
   "outputs": [
    {
     "data": {
      "text/html": [
       "<div>\n",
       "<style scoped>\n",
       "    .dataframe tbody tr th:only-of-type {\n",
       "        vertical-align: middle;\n",
       "    }\n",
       "\n",
       "    .dataframe tbody tr th {\n",
       "        vertical-align: top;\n",
       "    }\n",
       "\n",
       "    .dataframe thead th {\n",
       "        text-align: right;\n",
       "    }\n",
       "</style>\n",
       "<table border=\"1\" class=\"dataframe\">\n",
       "  <thead>\n",
       "    <tr style=\"text-align: right;\">\n",
       "      <th></th>\n",
       "      <th>date</th>\n",
       "      <th>followers</th>\n",
       "      <th>views</th>\n",
       "      <th>likes</th>\n",
       "      <th>comments</th>\n",
       "      <th>engagement_rate</th>\n",
       "      <th>average_watch_time</th>\n",
       "      <th>audience_gender</th>\n",
       "      <th>audience_age</th>\n",
       "      <th>audience_location</th>\n",
       "    </tr>\n",
       "  </thead>\n",
       "  <tbody>\n",
       "    <tr>\n",
       "      <th>0</th>\n",
       "      <td>5/16/2020</td>\n",
       "      <td>427506</td>\n",
       "      <td>6519051</td>\n",
       "      <td>7782</td>\n",
       "      <td>1098</td>\n",
       "      <td>7.34</td>\n",
       "      <td>930</td>\n",
       "      <td>male</td>\n",
       "      <td>18-24</td>\n",
       "      <td>Guatemala</td>\n",
       "    </tr>\n",
       "    <tr>\n",
       "      <th>1</th>\n",
       "      <td>12/21/2020</td>\n",
       "      <td>539516</td>\n",
       "      <td>6421017</td>\n",
       "      <td>8435</td>\n",
       "      <td>7680</td>\n",
       "      <td>7.76</td>\n",
       "      <td>1822</td>\n",
       "      <td>male</td>\n",
       "      <td>55+</td>\n",
       "      <td>France</td>\n",
       "    </tr>\n",
       "    <tr>\n",
       "      <th>2</th>\n",
       "      <td>5/25/2020</td>\n",
       "      <td>884981</td>\n",
       "      <td>2728875</td>\n",
       "      <td>99790</td>\n",
       "      <td>576</td>\n",
       "      <td>5.17</td>\n",
       "      <td>1873</td>\n",
       "      <td>other</td>\n",
       "      <td>55+</td>\n",
       "      <td>Ukraine</td>\n",
       "    </tr>\n",
       "    <tr>\n",
       "      <th>3</th>\n",
       "      <td>2/24/2020</td>\n",
       "      <td>444444</td>\n",
       "      <td>517343</td>\n",
       "      <td>48143</td>\n",
       "      <td>2790</td>\n",
       "      <td>2.89</td>\n",
       "      <td>2065</td>\n",
       "      <td>male</td>\n",
       "      <td>18-24</td>\n",
       "      <td>Ukraine</td>\n",
       "    </tr>\n",
       "    <tr>\n",
       "      <th>4</th>\n",
       "      <td>8/6/2020</td>\n",
       "      <td>785290</td>\n",
       "      <td>520739</td>\n",
       "      <td>91571</td>\n",
       "      <td>6976</td>\n",
       "      <td>7.98</td>\n",
       "      <td>43</td>\n",
       "      <td>male</td>\n",
       "      <td>35-44</td>\n",
       "      <td>Yemen</td>\n",
       "    </tr>\n",
       "  </tbody>\n",
       "</table>\n",
       "</div>"
      ],
      "text/plain": [
       "         date  followers    views  likes  comments  engagement_rate  \\\n",
       "0   5/16/2020     427506  6519051   7782      1098             7.34   \n",
       "1  12/21/2020     539516  6421017   8435      7680             7.76   \n",
       "2   5/25/2020     884981  2728875  99790       576             5.17   \n",
       "3   2/24/2020     444444   517343  48143      2790             2.89   \n",
       "4    8/6/2020     785290   520739  91571      6976             7.98   \n",
       "\n",
       "   average_watch_time audience_gender audience_age audience_location  \n",
       "0                 930            male        18-24         Guatemala  \n",
       "1                1822            male          55+            France  \n",
       "2                1873           other          55+           Ukraine  \n",
       "3                2065            male        18-24           Ukraine  \n",
       "4                  43            male        35-44             Yemen  "
      ]
     },
     "execution_count": 8,
     "metadata": {},
     "output_type": "execute_result"
    }
   ],
   "source": [
    "data.head()"
   ]
  },
  {
   "cell_type": "code",
   "execution_count": 36,
   "id": "7d1e3971",
   "metadata": {},
   "outputs": [
    {
     "data": {
      "text/html": [
       "<div>\n",
       "<style scoped>\n",
       "    .dataframe tbody tr th:only-of-type {\n",
       "        vertical-align: middle;\n",
       "    }\n",
       "\n",
       "    .dataframe tbody tr th {\n",
       "        vertical-align: top;\n",
       "    }\n",
       "\n",
       "    .dataframe thead th {\n",
       "        text-align: right;\n",
       "    }\n",
       "</style>\n",
       "<table border=\"1\" class=\"dataframe\">\n",
       "  <thead>\n",
       "    <tr style=\"text-align: right;\">\n",
       "      <th></th>\n",
       "      <th>date</th>\n",
       "      <th>followers</th>\n",
       "      <th>views</th>\n",
       "      <th>likes</th>\n",
       "      <th>comments</th>\n",
       "      <th>engagement_rate</th>\n",
       "      <th>average_watch_time</th>\n",
       "      <th>audience_gender</th>\n",
       "      <th>audience_age</th>\n",
       "      <th>audience_location</th>\n",
       "    </tr>\n",
       "  </thead>\n",
       "  <tbody>\n",
       "    <tr>\n",
       "      <th>995</th>\n",
       "      <td>10/17/2020</td>\n",
       "      <td>680711</td>\n",
       "      <td>8237575</td>\n",
       "      <td>96384</td>\n",
       "      <td>5138</td>\n",
       "      <td>9.50</td>\n",
       "      <td>631</td>\n",
       "      <td>female</td>\n",
       "      <td>45-54</td>\n",
       "      <td>China</td>\n",
       "    </tr>\n",
       "    <tr>\n",
       "      <th>996</th>\n",
       "      <td>10/5/2020</td>\n",
       "      <td>287717</td>\n",
       "      <td>2202459</td>\n",
       "      <td>31463</td>\n",
       "      <td>5428</td>\n",
       "      <td>7.58</td>\n",
       "      <td>2598</td>\n",
       "      <td>female</td>\n",
       "      <td>45-54</td>\n",
       "      <td>Greece</td>\n",
       "    </tr>\n",
       "    <tr>\n",
       "      <th>997</th>\n",
       "      <td>6/15/2020</td>\n",
       "      <td>35272</td>\n",
       "      <td>566720</td>\n",
       "      <td>52010</td>\n",
       "      <td>4745</td>\n",
       "      <td>1.13</td>\n",
       "      <td>3511</td>\n",
       "      <td>female</td>\n",
       "      <td>25-34</td>\n",
       "      <td>Madagascar</td>\n",
       "    </tr>\n",
       "    <tr>\n",
       "      <th>998</th>\n",
       "      <td>2/26/2020</td>\n",
       "      <td>327587</td>\n",
       "      <td>4649345</td>\n",
       "      <td>84008</td>\n",
       "      <td>9659</td>\n",
       "      <td>7.58</td>\n",
       "      <td>1666</td>\n",
       "      <td>male</td>\n",
       "      <td>18-24</td>\n",
       "      <td>Norway</td>\n",
       "    </tr>\n",
       "    <tr>\n",
       "      <th>999</th>\n",
       "      <td>5/25/2020</td>\n",
       "      <td>789824</td>\n",
       "      <td>3897137</td>\n",
       "      <td>77255</td>\n",
       "      <td>4031</td>\n",
       "      <td>6.24</td>\n",
       "      <td>405</td>\n",
       "      <td>female</td>\n",
       "      <td>25-34</td>\n",
       "      <td>Philippines</td>\n",
       "    </tr>\n",
       "  </tbody>\n",
       "</table>\n",
       "</div>"
      ],
      "text/plain": [
       "           date  followers    views  likes  comments  engagement_rate  \\\n",
       "995  10/17/2020     680711  8237575  96384      5138             9.50   \n",
       "996   10/5/2020     287717  2202459  31463      5428             7.58   \n",
       "997   6/15/2020      35272   566720  52010      4745             1.13   \n",
       "998   2/26/2020     327587  4649345  84008      9659             7.58   \n",
       "999   5/25/2020     789824  3897137  77255      4031             6.24   \n",
       "\n",
       "     average_watch_time audience_gender audience_age audience_location  \n",
       "995                 631          female        45-54             China  \n",
       "996                2598          female        45-54            Greece  \n",
       "997                3511          female        25-34        Madagascar  \n",
       "998                1666            male        18-24            Norway  \n",
       "999                 405          female        25-34       Philippines  "
      ]
     },
     "execution_count": 36,
     "metadata": {},
     "output_type": "execute_result"
    }
   ],
   "source": [
    "data.tail()"
   ]
  },
  {
   "cell_type": "code",
   "execution_count": 10,
   "id": "3aa0d02d",
   "metadata": {},
   "outputs": [
    {
     "data": {
      "text/plain": [
       "(1000, 10)"
      ]
     },
     "execution_count": 10,
     "metadata": {},
     "output_type": "execute_result"
    }
   ],
   "source": [
    "data.shape"
   ]
  },
  {
   "cell_type": "code",
   "execution_count": 22,
   "id": "bba9c8d3",
   "metadata": {},
   "outputs": [
    {
     "data": {
      "text/html": [
       "<div>\n",
       "<style scoped>\n",
       "    .dataframe tbody tr th:only-of-type {\n",
       "        vertical-align: middle;\n",
       "    }\n",
       "\n",
       "    .dataframe tbody tr th {\n",
       "        vertical-align: top;\n",
       "    }\n",
       "\n",
       "    .dataframe thead th {\n",
       "        text-align: right;\n",
       "    }\n",
       "</style>\n",
       "<table border=\"1\" class=\"dataframe\">\n",
       "  <thead>\n",
       "    <tr style=\"text-align: right;\">\n",
       "      <th></th>\n",
       "      <th>followers</th>\n",
       "      <th>views</th>\n",
       "      <th>likes</th>\n",
       "      <th>comments</th>\n",
       "      <th>engagement_rate</th>\n",
       "      <th>average_watch_time</th>\n",
       "    </tr>\n",
       "  </thead>\n",
       "  <tbody>\n",
       "    <tr>\n",
       "      <th>count</th>\n",
       "      <td>1000.00000</td>\n",
       "      <td>1.000000e+03</td>\n",
       "      <td>1000.000000</td>\n",
       "      <td>1000.000000</td>\n",
       "      <td>1000.000000</td>\n",
       "      <td>1000.000000</td>\n",
       "    </tr>\n",
       "    <tr>\n",
       "      <th>mean</th>\n",
       "      <td>516922.00500</td>\n",
       "      <td>5.060241e+06</td>\n",
       "      <td>50175.098000</td>\n",
       "      <td>5046.811000</td>\n",
       "      <td>5.037460</td>\n",
       "      <td>1742.757000</td>\n",
       "    </tr>\n",
       "    <tr>\n",
       "      <th>std</th>\n",
       "      <td>287837.46484</td>\n",
       "      <td>2.915597e+06</td>\n",
       "      <td>29037.674888</td>\n",
       "      <td>2874.474389</td>\n",
       "      <td>2.896102</td>\n",
       "      <td>1036.296341</td>\n",
       "    </tr>\n",
       "    <tr>\n",
       "      <th>min</th>\n",
       "      <td>249.00000</td>\n",
       "      <td>2.243000e+04</td>\n",
       "      <td>77.000000</td>\n",
       "      <td>0.000000</td>\n",
       "      <td>0.000000</td>\n",
       "      <td>3.000000</td>\n",
       "    </tr>\n",
       "    <tr>\n",
       "      <th>25%</th>\n",
       "      <td>270396.00000</td>\n",
       "      <td>2.441954e+06</td>\n",
       "      <td>24873.500000</td>\n",
       "      <td>2550.500000</td>\n",
       "      <td>2.557500</td>\n",
       "      <td>851.000000</td>\n",
       "    </tr>\n",
       "    <tr>\n",
       "      <th>50%</th>\n",
       "      <td>524852.00000</td>\n",
       "      <td>5.213614e+06</td>\n",
       "      <td>50986.000000</td>\n",
       "      <td>4958.500000</td>\n",
       "      <td>5.000000</td>\n",
       "      <td>1676.500000</td>\n",
       "    </tr>\n",
       "    <tr>\n",
       "      <th>75%</th>\n",
       "      <td>771618.00000</td>\n",
       "      <td>7.560359e+06</td>\n",
       "      <td>74927.500000</td>\n",
       "      <td>7507.250000</td>\n",
       "      <td>7.590000</td>\n",
       "      <td>2636.500000</td>\n",
       "    </tr>\n",
       "    <tr>\n",
       "      <th>max</th>\n",
       "      <td>999966.00000</td>\n",
       "      <td>9.994777e+06</td>\n",
       "      <td>99790.000000</td>\n",
       "      <td>9996.000000</td>\n",
       "      <td>9.990000</td>\n",
       "      <td>3597.000000</td>\n",
       "    </tr>\n",
       "  </tbody>\n",
       "</table>\n",
       "</div>"
      ],
      "text/plain": [
       "          followers         views         likes     comments  engagement_rate  \\\n",
       "count    1000.00000  1.000000e+03   1000.000000  1000.000000      1000.000000   \n",
       "mean   516922.00500  5.060241e+06  50175.098000  5046.811000         5.037460   \n",
       "std    287837.46484  2.915597e+06  29037.674888  2874.474389         2.896102   \n",
       "min       249.00000  2.243000e+04     77.000000     0.000000         0.000000   \n",
       "25%    270396.00000  2.441954e+06  24873.500000  2550.500000         2.557500   \n",
       "50%    524852.00000  5.213614e+06  50986.000000  4958.500000         5.000000   \n",
       "75%    771618.00000  7.560359e+06  74927.500000  7507.250000         7.590000   \n",
       "max    999966.00000  9.994777e+06  99790.000000  9996.000000         9.990000   \n",
       "\n",
       "       average_watch_time  \n",
       "count         1000.000000  \n",
       "mean          1742.757000  \n",
       "std           1036.296341  \n",
       "min              3.000000  \n",
       "25%            851.000000  \n",
       "50%           1676.500000  \n",
       "75%           2636.500000  \n",
       "max           3597.000000  "
      ]
     },
     "execution_count": 22,
     "metadata": {},
     "output_type": "execute_result"
    }
   ],
   "source": [
    "data.describe()"
   ]
  },
  {
   "cell_type": "code",
   "execution_count": 39,
   "id": "2383d0aa",
   "metadata": {},
   "outputs": [
    {
     "data": {
      "text/plain": [
       "array([ 7782,  8435, 99790, 48143, 91571,  3200, 71772, 57513, 47979,\n",
       "       32366, 38221, 10816, 66805,  4733,  1657, 62376, 32355, 63004,\n",
       "       22622, 20836,  8483, 90901,  3044,  3369, 12604, 41921, 15053,\n",
       "       46795, 52799, 35388, 62357, 26244, 77626, 59361, 73966, 60183,\n",
       "       73111,  4814, 75977, 88009, 63455,  6685, 50711, 19528, 19890,\n",
       "       43775, 66812,  7202, 21188, 68931, 37208, 64099, 99650, 78305,\n",
       "       23911, 94375, 64304, 56075, 35880, 89172, 19565, 83509, 75004,\n",
       "       80141, 66626, 85233, 17098, 11824, 40225, 36595, 57312, 74446,\n",
       "       15249, 76240, 82204, 33667, 50542, 83083, 25372,  7924, 74362,\n",
       "       36503, 28752, 51579, 75812, 56841, 75898, 37133, 23189, 75721,\n",
       "       23672, 79427, 24918, 63729, 72945, 98785, 99615, 11209, 37169,\n",
       "       97679, 79006, 93283,  6940, 89504, 97617, 85967, 81627, 51312,\n",
       "       64842, 77499, 99321, 65811, 86152, 94176, 93300, 16146, 24527,\n",
       "       98202,  6916, 98101, 46049, 87332, 57109, 13771,  3766, 48333,\n",
       "       90102, 49776, 81247, 75643, 66930, 33692, 87043, 11114,  8184,\n",
       "       52669,  4612, 50280, 93870, 33653, 79640, 10728, 67284, 93090,\n",
       "       63235, 50123, 73498, 32807, 52068,  6878, 39640, 93085, 80081,\n",
       "       73885, 37357,  4625, 81212, 73143, 22576, 56651, 18005, 29404,\n",
       "       26991, 22170, 99399, 93843,  4481, 13854, 49727, 79738, 55100,\n",
       "       15991, 48589, 50625, 44999, 47984, 67947,  6557, 33127, 37123,\n",
       "       57161, 43941, 55676, 35749, 69820, 32894, 88975, 30442, 62681,\n",
       "       44423, 21695, 80971, 75326, 65270, 10948, 48038, 52229, 51403,\n",
       "       97034, 32084, 27390, 61958, 77255, 67701, 12961, 16211, 61756,\n",
       "       18702, 74561, 18037, 63157, 22938, 66084, 64876, 65623, 24033,\n",
       "       19986, 58541, 50556, 40986, 45552, 31962, 26232, 95489, 32131,\n",
       "        6944, 23159, 90737, 63208, 73291, 11085,   257, 96710, 92538,\n",
       "         860, 42744, 89188, 53540, 34204, 93887, 99608, 31884, 61939,\n",
       "       89195, 88989, 29030, 56006, 96857, 34555, 32990, 27120, 71307,\n",
       "       59898, 92224,  9602, 38877, 75730, 92709, 25502, 59279, 10330,\n",
       "       85467,  1014, 57104, 76684, 88929, 99552, 46919, 25603, 93701,\n",
       "       59828,  8936,  5302, 60379,  2944, 11338, 56435,  7936,  2774,\n",
       "       35583,  8817, 34546, 69349, 51486, 69457, 63972, 58785, 45038,\n",
       "       77187, 73586, 75457, 10998, 83985, 11689, 28961, 87963, 14589,\n",
       "       81898, 82738, 79354,  7989, 42312, 58393, 70820, 66563, 19555,\n",
       "       32826,  4137, 93700, 96322, 43730, 90052, 56041,  9626, 11127,\n",
       "       60281, 68647, 25711, 10438, 25702, 40365, 93204, 69518, 12246,\n",
       "       71963, 76745, 20230, 19521, 92602, 69129, 27253, 95904, 10135,\n",
       "       17150, 14715, 98984, 37541, 72182, 72887, 78810, 49440, 87877,\n",
       "       63741, 96695, 30860, 25166, 28444,  6804, 15617, 21400,  3205,\n",
       "       21894, 17000, 42405, 43812, 14331, 24740, 13350, 29557, 11972,\n",
       "       61338, 15783, 83088, 62984, 22861, 96021, 81949,  4544, 42775,\n",
       "       60169, 33431, 51632, 98947, 83090, 75256, 43747, 51445, 63996,\n",
       "        1650, 67632, 94851, 33727,  1634,  7074, 10180, 34740,  9700,\n",
       "       18167, 54460, 95704, 89054,  6590, 73144, 70203, 16905, 89571,\n",
       "        6002, 25582, 51035, 86689, 81613, 57133, 80557, 52267, 10441,\n",
       "       88930, 82920, 14883, 20353, 96062, 32455, 39511, 48121, 87678,\n",
       "       63487,  7142, 64972, 59656,   811, 10324, 73033, 42219, 16646,\n",
       "       82070, 90237, 34535, 22973, 92894, 77137, 52578, 58908, 38454,\n",
       "       57773, 63340, 83584, 20725, 10313, 46053, 84671, 26004, 64321,\n",
       "       57430, 21109, 27484, 32414, 10814,  4382, 91002, 66537, 37161,\n",
       "        6277, 28685, 23530, 26416, 45504, 37030, 59067, 98436, 72451,\n",
       "       97857, 38662, 13763, 31957, 46562,  7687, 27027, 88734, 32478,\n",
       "       28579, 38014, 27776, 95249, 83171, 55936, 64928,  7301, 93553,\n",
       "       42002, 98845, 24113, 32211, 81934, 14849, 28105, 37106, 64011,\n",
       "       73280, 99687, 71072, 63798,  6322, 60274, 45546, 67112, 69631,\n",
       "       77457, 36647, 36425,  9903, 21070, 29398,  6852, 83129, 27543,\n",
       "       49472, 82342, 90418, 89921, 27392, 48155, 71856, 22191, 84104,\n",
       "       39435, 41381, 65792, 27712, 12182, 76219, 92368, 53169, 88495,\n",
       "       52608, 42601, 75880, 13444, 56695, 62798, 23843, 24211, 59206,\n",
       "       63225, 84209, 72401, 91851, 26007, 73745, 33635, 65480,  2113,\n",
       "        4394, 97327, 51478, 67385, 81831, 38058, 97153, 29191, 49728,\n",
       "       29938, 58645, 51075, 48201,  3955, 45521, 94850, 79547, 68520,\n",
       "       68347, 41257, 41216, 74123, 96613, 23108, 36936, 64880, 65741,\n",
       "       54706, 81480, 27014, 88604, 60849, 26216, 30412, 63166, 66151,\n",
       "       53938, 23104, 44326, 36255,  1375, 21720, 66000, 22193, 21506,\n",
       "       80183, 84903, 16165, 68363, 98771, 89173, 17809, 46992, 43312,\n",
       "       57424, 23744, 23446, 26909, 23325, 35269, 66327, 30577, 72186,\n",
       "       62259, 59160, 27940, 75629, 66318, 36796, 22335, 63687, 13785,\n",
       "       13483, 46193, 44655,  3536,  2507, 11358, 19655, 68656, 22145,\n",
       "       22930, 93550, 14931, 50115, 94016, 64631, 13236, 54930, 94635,\n",
       "       69183, 43274, 89514, 82441, 37886, 75226, 12010, 93978, 97554,\n",
       "       43111, 24388, 45054, 59306, 89869, 76835, 40110, 17530, 88029,\n",
       "       23309, 10036,  3320, 12843, 24291, 35009, 42192, 10504, 57767,\n",
       "       91647, 32555, 88965, 91813, 69263, 81139, 31672, 46414, 16777,\n",
       "       31870, 37572, 92935, 91848, 63320, 10487, 55461, 10557, 70108,\n",
       "       57789, 95522, 98710, 90833, 63194, 99762, 42499, 43536, 79350,\n",
       "       51487, 62617, 82781, 47830,   608, 60795, 74902,  6642, 60820,\n",
       "       33961, 90952, 25686, 11876, 10217, 30791, 54802, 78211, 89196,\n",
       "       27698, 44220, 95328, 30390, 95985, 38009,  2726, 73808, 58268,\n",
       "       33407, 97297, 71480,  8134, 28386, 58047, 22511, 29133, 87976,\n",
       "       77046, 48484, 91939, 12899, 31999,    77, 93794, 59532, 72341,\n",
       "       38402, 23412, 42116, 39200, 37295, 81661, 37011,  3177, 48517,\n",
       "       13695, 79866, 44789, 84159, 80146, 65547, 42536, 38383, 40500,\n",
       "       77689, 84127, 69988, 56419,  4459,  7653,  7470, 56132, 66977,\n",
       "       43787, 14835, 72578, 16060, 85998, 85391, 67009, 26478, 38070,\n",
       "        8786, 41942, 22107, 63243, 43463,  7168, 33965, 81584, 61908,\n",
       "       51293, 62335, 74677, 64319, 10292, 55540, 77657, 90347, 93232,\n",
       "       15034, 97731, 34356, 87253,  5422, 45514, 52242, 97997, 65693,\n",
       "       70590, 57310, 73649, 37051, 57198,  9513, 39780, 16050, 90617,\n",
       "       88288, 13181, 51602,  9457, 69538, 69219, 23666, 27468, 67285,\n",
       "        5815, 70837, 71893, 75233, 61016, 53974, 21475,  3693, 73925,\n",
       "       78672, 29847, 26941, 86938, 28400, 39123, 74047, 81418, 57863,\n",
       "       35816, 63712, 78481, 28714, 90571, 42000,  6044, 31848, 71581,\n",
       "         939,  5836, 31893, 56459, 57111, 93241, 20784, 60857, 89751,\n",
       "       51661, 70240, 28094, 50937, 80589, 78399, 13936, 92342, 11051,\n",
       "       36202, 59694, 39135, 73703, 75770, 33628, 63918,  5569, 96989,\n",
       "       38704, 47423, 21002, 78319, 25513, 11013, 56920, 67344, 42059,\n",
       "       14052, 74440, 70081, 85097, 65849, 86784, 77335, 18358, 51482,\n",
       "       50079, 52997, 66507, 32695, 37805, 98968, 76415, 37689,  6081,\n",
       "        5842, 66260,  1629, 98412,  7461, 86584, 19071, 47512, 82058,\n",
       "       83929,   498, 14988, 18053, 94447, 57708, 36791, 92061, 45281,\n",
       "       25557, 64040, 33486, 66907, 92413, 49460, 45166, 60148, 33817,\n",
       "       98621,  9348,  5385, 30731, 75783, 95502, 13709, 45191, 11207,\n",
       "       97916,  1278, 71473, 29696,  2057, 88276, 88086, 39537,  4371,\n",
       "        2233, 10038, 87035, 20696, 12601, 71327, 56073, 84830, 89725,\n",
       "       29621, 97577, 66045, 43492,  9079, 35654, 83363, 11266, 63420,\n",
       "       22075, 49695, 78675, 72587, 98688, 57846, 31932, 55484, 76416,\n",
       "       19309, 31944, 91487, 78681, 91049, 15171, 17086, 66525, 59073,\n",
       "       10426,  6266, 95451, 70466, 60716, 21280, 37439, 10597, 87075,\n",
       "       18565, 17481, 45758, 53155, 99022, 26207, 52272, 15229, 13628,\n",
       "       11010, 70121, 96384, 31463, 52010, 84008], dtype=int64)"
      ]
     },
     "execution_count": 39,
     "metadata": {},
     "output_type": "execute_result"
    }
   ],
   "source": [
    "data['likes'].unique()"
   ]
  },
  {
   "cell_type": "code",
   "execution_count": 23,
   "id": "0bf329fa",
   "metadata": {},
   "outputs": [
    {
     "data": {
      "text/html": [
       "<div>\n",
       "<style scoped>\n",
       "    .dataframe tbody tr th:only-of-type {\n",
       "        vertical-align: middle;\n",
       "    }\n",
       "\n",
       "    .dataframe tbody tr th {\n",
       "        vertical-align: top;\n",
       "    }\n",
       "\n",
       "    .dataframe thead th {\n",
       "        text-align: right;\n",
       "    }\n",
       "</style>\n",
       "<table border=\"1\" class=\"dataframe\">\n",
       "  <thead>\n",
       "    <tr style=\"text-align: right;\">\n",
       "      <th></th>\n",
       "      <th>date</th>\n",
       "      <th>followers</th>\n",
       "      <th>views</th>\n",
       "      <th>likes</th>\n",
       "      <th>comments</th>\n",
       "      <th>engagement_rate</th>\n",
       "      <th>average_watch_time</th>\n",
       "      <th>audience_gender</th>\n",
       "      <th>audience_age</th>\n",
       "      <th>audience_location</th>\n",
       "    </tr>\n",
       "  </thead>\n",
       "  <tbody>\n",
       "    <tr>\n",
       "      <th>0</th>\n",
       "      <td>5/16/2020</td>\n",
       "      <td>427506</td>\n",
       "      <td>6519051</td>\n",
       "      <td>7782</td>\n",
       "      <td>1098</td>\n",
       "      <td>7.34</td>\n",
       "      <td>930</td>\n",
       "      <td>male</td>\n",
       "      <td>18-24</td>\n",
       "      <td>Guatemala</td>\n",
       "    </tr>\n",
       "    <tr>\n",
       "      <th>1</th>\n",
       "      <td>12/21/2020</td>\n",
       "      <td>539516</td>\n",
       "      <td>6421017</td>\n",
       "      <td>8435</td>\n",
       "      <td>7680</td>\n",
       "      <td>7.76</td>\n",
       "      <td>1822</td>\n",
       "      <td>male</td>\n",
       "      <td>55+</td>\n",
       "      <td>France</td>\n",
       "    </tr>\n",
       "    <tr>\n",
       "      <th>2</th>\n",
       "      <td>5/25/2020</td>\n",
       "      <td>884981</td>\n",
       "      <td>2728875</td>\n",
       "      <td>99790</td>\n",
       "      <td>576</td>\n",
       "      <td>5.17</td>\n",
       "      <td>1873</td>\n",
       "      <td>other</td>\n",
       "      <td>55+</td>\n",
       "      <td>Ukraine</td>\n",
       "    </tr>\n",
       "    <tr>\n",
       "      <th>3</th>\n",
       "      <td>2/24/2020</td>\n",
       "      <td>444444</td>\n",
       "      <td>517343</td>\n",
       "      <td>48143</td>\n",
       "      <td>2790</td>\n",
       "      <td>2.89</td>\n",
       "      <td>2065</td>\n",
       "      <td>male</td>\n",
       "      <td>18-24</td>\n",
       "      <td>Ukraine</td>\n",
       "    </tr>\n",
       "    <tr>\n",
       "      <th>4</th>\n",
       "      <td>8/6/2020</td>\n",
       "      <td>785290</td>\n",
       "      <td>520739</td>\n",
       "      <td>91571</td>\n",
       "      <td>6976</td>\n",
       "      <td>7.98</td>\n",
       "      <td>43</td>\n",
       "      <td>male</td>\n",
       "      <td>35-44</td>\n",
       "      <td>Yemen</td>\n",
       "    </tr>\n",
       "  </tbody>\n",
       "</table>\n",
       "</div>"
      ],
      "text/plain": [
       "         date  followers    views  likes  comments  engagement_rate  \\\n",
       "0   5/16/2020     427506  6519051   7782      1098             7.34   \n",
       "1  12/21/2020     539516  6421017   8435      7680             7.76   \n",
       "2   5/25/2020     884981  2728875  99790       576             5.17   \n",
       "3   2/24/2020     444444   517343  48143      2790             2.89   \n",
       "4    8/6/2020     785290   520739  91571      6976             7.98   \n",
       "\n",
       "   average_watch_time audience_gender audience_age audience_location  \n",
       "0                 930            male        18-24         Guatemala  \n",
       "1                1822            male          55+            France  \n",
       "2                1873           other          55+           Ukraine  \n",
       "3                2065            male        18-24           Ukraine  \n",
       "4                  43            male        35-44             Yemen  "
      ]
     },
     "execution_count": 23,
     "metadata": {},
     "output_type": "execute_result"
    }
   ],
   "source": [
    "data.head()"
   ]
  },
  {
   "cell_type": "code",
   "execution_count": 14,
   "id": "9089bccd",
   "metadata": {},
   "outputs": [
    {
     "data": {
      "text/html": [
       "<div>\n",
       "<style scoped>\n",
       "    .dataframe tbody tr th:only-of-type {\n",
       "        vertical-align: middle;\n",
       "    }\n",
       "\n",
       "    .dataframe tbody tr th {\n",
       "        vertical-align: top;\n",
       "    }\n",
       "\n",
       "    .dataframe thead th {\n",
       "        text-align: right;\n",
       "    }\n",
       "</style>\n",
       "<table border=\"1\" class=\"dataframe\">\n",
       "  <thead>\n",
       "    <tr style=\"text-align: right;\">\n",
       "      <th></th>\n",
       "      <th>date</th>\n",
       "      <th>followers</th>\n",
       "      <th>views</th>\n",
       "      <th>likes</th>\n",
       "      <th>comments</th>\n",
       "      <th>engagement_rate</th>\n",
       "      <th>average_watch_time</th>\n",
       "      <th>audience_gender</th>\n",
       "      <th>audience_age</th>\n",
       "      <th>audience_location</th>\n",
       "    </tr>\n",
       "  </thead>\n",
       "  <tbody>\n",
       "    <tr>\n",
       "      <th>0</th>\n",
       "      <td>5/16/2020</td>\n",
       "      <td>427506</td>\n",
       "      <td>6519051</td>\n",
       "      <td>7782</td>\n",
       "      <td>1098</td>\n",
       "      <td>7.34</td>\n",
       "      <td>930</td>\n",
       "      <td>male</td>\n",
       "      <td>18-24</td>\n",
       "      <td>Guatemala</td>\n",
       "    </tr>\n",
       "    <tr>\n",
       "      <th>1</th>\n",
       "      <td>12/21/2020</td>\n",
       "      <td>539516</td>\n",
       "      <td>6421017</td>\n",
       "      <td>8435</td>\n",
       "      <td>7680</td>\n",
       "      <td>7.76</td>\n",
       "      <td>1822</td>\n",
       "      <td>male</td>\n",
       "      <td>55+</td>\n",
       "      <td>France</td>\n",
       "    </tr>\n",
       "    <tr>\n",
       "      <th>2</th>\n",
       "      <td>5/25/2020</td>\n",
       "      <td>884981</td>\n",
       "      <td>2728875</td>\n",
       "      <td>99790</td>\n",
       "      <td>576</td>\n",
       "      <td>5.17</td>\n",
       "      <td>1873</td>\n",
       "      <td>other</td>\n",
       "      <td>55+</td>\n",
       "      <td>Ukraine</td>\n",
       "    </tr>\n",
       "    <tr>\n",
       "      <th>3</th>\n",
       "      <td>2/24/2020</td>\n",
       "      <td>444444</td>\n",
       "      <td>517343</td>\n",
       "      <td>48143</td>\n",
       "      <td>2790</td>\n",
       "      <td>2.89</td>\n",
       "      <td>2065</td>\n",
       "      <td>male</td>\n",
       "      <td>18-24</td>\n",
       "      <td>Ukraine</td>\n",
       "    </tr>\n",
       "    <tr>\n",
       "      <th>4</th>\n",
       "      <td>8/6/2020</td>\n",
       "      <td>785290</td>\n",
       "      <td>520739</td>\n",
       "      <td>91571</td>\n",
       "      <td>6976</td>\n",
       "      <td>7.98</td>\n",
       "      <td>43</td>\n",
       "      <td>male</td>\n",
       "      <td>35-44</td>\n",
       "      <td>Yemen</td>\n",
       "    </tr>\n",
       "  </tbody>\n",
       "</table>\n",
       "</div>"
      ],
      "text/plain": [
       "         date  followers    views  likes  comments  engagement_rate  \\\n",
       "0   5/16/2020     427506  6519051   7782      1098             7.34   \n",
       "1  12/21/2020     539516  6421017   8435      7680             7.76   \n",
       "2   5/25/2020     884981  2728875  99790       576             5.17   \n",
       "3   2/24/2020     444444   517343  48143      2790             2.89   \n",
       "4    8/6/2020     785290   520739  91571      6976             7.98   \n",
       "\n",
       "   average_watch_time audience_gender audience_age audience_location  \n",
       "0                 930            male        18-24         Guatemala  \n",
       "1                1822            male          55+            France  \n",
       "2                1873           other          55+           Ukraine  \n",
       "3                2065            male        18-24           Ukraine  \n",
       "4                  43            male        35-44             Yemen  "
      ]
     },
     "execution_count": 14,
     "metadata": {},
     "output_type": "execute_result"
    }
   ],
   "source": [
    "data.head()"
   ]
  },
  {
   "cell_type": "code",
   "execution_count": 37,
   "id": "fdd11a32",
   "metadata": {},
   "outputs": [
    {
     "data": {
      "text/plain": [
       "date                  0\n",
       "followers             0\n",
       "views                 0\n",
       "likes                 0\n",
       "comments              0\n",
       "engagement_rate       0\n",
       "average_watch_time    0\n",
       "audience_gender       0\n",
       "audience_age          0\n",
       "audience_location     0\n",
       "dtype: int64"
      ]
     },
     "execution_count": 37,
     "metadata": {},
     "output_type": "execute_result"
    }
   ],
   "source": [
    "data.isnull().sum()\n"
   ]
  },
  {
   "cell_type": "code",
   "execution_count": null,
   "id": "81c5b6ba",
   "metadata": {},
   "outputs": [],
   "source": [
    "data.columns\n",
    "data.info()\n"
   ]
  },
  {
   "cell_type": "code",
   "execution_count": 40,
   "id": "cada8480",
   "metadata": {},
   "outputs": [
    {
     "data": {
      "image/png": "[encoded data removed]",
      "text/plain": [
       "<Figure size 432x288 with 2 Axes>"
      ]
     },
     "metadata": {
      "needs_background": "light"
     },
     "output_type": "display_data"
    }
   ],
   "source": [
    "corr_matrix = data.corr()\n",
    "sns.heatmap(corr_matrix, annot=True, cmap='coolwarm')\n",
    "plt.title('Correlation Heatmap')\n",
    "plt.show()\n"
   ]
  },
  {
   "cell_type": "code",
   "execution_count": 18,
   "id": "034f4b2b",
   "metadata": {},
   "outputs": [
    {
     "ename": "SyntaxError",
     "evalue": "invalid syntax (3823986899.py, line 1)",
     "output_type": "error",
     "traceback": [
      "\u001b[1;36m  Input \u001b[1;32mIn [18]\u001b[1;36m\u001b[0m\n\u001b[1;33m    plt.hist(data.['column_name'], bins=20)\u001b[0m\n\u001b[1;37m                  ^\u001b[0m\n\u001b[1;31mSyntaxError\u001b[0m\u001b[1;31m:\u001b[0m invalid syntax\n"
     ]
    }
   ],
   "source": [
    "plt.hist(data.['column_name'], bins=20)\n",
    "plt.xlabel('X-axis label')\n",
    "plt.ylabel('Y-axis label')\n",
    "plt.title('Histogram of a Variable')\n",
    "plt.show()"
   ]
  },
  {
   "cell_type": "code",
   "execution_count": 19,
   "id": "8b6c3380",
   "metadata": {},
   "outputs": [
    {
     "data": {
      "text/plain": [
       "date                  0\n",
       "followers             0\n",
       "views                 0\n",
       "likes                 0\n",
       "comments              0\n",
       "engagement_rate       0\n",
       "average_watch_time    0\n",
       "audience_gender       0\n",
       "audience_age          0\n",
       "audience_location     0\n",
       "dtype: int64"
      ]
     },
     "execution_count": 19,
     "metadata": {},
     "output_type": "execute_result"
    }
   ],
   "source": [
    "data.isnull().sum()"
   ]
  },
  {
   "cell_type": "code",
   "execution_count": 20,
   "id": "d2c22a2a",
   "metadata": {},
   "outputs": [],
   "source": [
    "data.dropna(inplace=True)"
   ]
  },
  {
   "cell_type": "code",
   "execution_count": 21,
   "id": "11c7922e",
   "metadata": {},
   "outputs": [
    {
     "name": "stdout",
     "output_type": "stream",
     "text": [
      "<class 'pandas.core.frame.DataFrame'>\n",
      "RangeIndex: 1000 entries, 0 to 999\n",
      "Data columns (total 10 columns):\n",
      " #   Column              Non-Null Count  Dtype  \n",
      "---  ------              --------------  -----  \n",
      " 0   date                1000 non-null   object \n",
      " 1   followers           1000 non-null   int64  \n",
      " 2   views               1000 non-null   int64  \n",
      " 3   likes               1000 non-null   int64  \n",
      " 4   comments            1000 non-null   int64  \n",
      " 5   engagement_rate     1000 non-null   float64\n",
      " 6   average_watch_time  1000 non-null   int64  \n",
      " 7   audience_gender     1000 non-null   object \n",
      " 8   audience_age        1000 non-null   object \n",
      " 9   audience_location   1000 non-null   object \n",
      "dtypes: float64(1), int64(5), object(4)\n",
      "memory usage: 78.2+ KB\n"
     ]
    }
   ],
   "source": [
    "data.info()"
   ]
  },
  {
   "cell_type": "code",
   "execution_count": 26,
   "id": "a43cc0a9",
   "metadata": {},
   "outputs": [],
   "source": [
    "import matplotlib.pyplot as plt"
   ]
  },
  {
   "cell_type": "code",
   "execution_count": 38,
   "id": "fa9679c2",
   "metadata": {},
   "outputs": [
    {
     "data": {
      "image/png": "[encoded data removed]",
      "text/plain": [
       "<Figure size 432x288 with 1 Axes>"
      ]
     },
     "metadata": {
      "needs_background": "light"
     },
     "output_type": "display_data"
    }
   ],
   "source": [
    "plt.hist(data, bins=20)\n",
    "plt.xlabel('Followers')\n",
    "plt.ylabel('Likes')\n",
    "plt.title('Instagram Growth')\n",
    "plt.show()\n"
   ]
  },
  {
   "cell_type": "code",
   "execution_count": 28,
   "id": "e84093bb",
   "metadata": {},
   "outputs": [
    {
     "ename": "NameError",
     "evalue": "name 'df' is not defined",
     "output_type": "error",
     "traceback": [
      "\u001b[1;31m---------------------------------------------------------------------------\u001b[0m",
      "\u001b[1;31mNameError\u001b[0m                                 Traceback (most recent call last)",
      "Input \u001b[1;32mIn [28]\u001b[0m, in \u001b[0;36m<cell line: 1>\u001b[1;34m()\u001b[0m\n\u001b[1;32m----> 1\u001b[0m plt\u001b[38;5;241m.\u001b[39mscatter(\u001b[43mdf\u001b[49m[\u001b[38;5;124m'\u001b[39m\u001b[38;5;124mfeature1\u001b[39m\u001b[38;5;124m'\u001b[39m], df[\u001b[38;5;124m'\u001b[39m\u001b[38;5;124mfeature2\u001b[39m\u001b[38;5;124m'\u001b[39m])\n\u001b[0;32m      2\u001b[0m plt\u001b[38;5;241m.\u001b[39mxlabel(\u001b[38;5;124m'\u001b[39m\u001b[38;5;124mFeature 1\u001b[39m\u001b[38;5;124m'\u001b[39m)\n\u001b[0;32m      3\u001b[0m plt\u001b[38;5;241m.\u001b[39mylabel(\u001b[38;5;124m'\u001b[39m\u001b[38;5;124mFeature 2\u001b[39m\u001b[38;5;124m'\u001b[39m)\n",
      "\u001b[1;31mNameError\u001b[0m: name 'df' is not defined"
     ]
    }
   ],
   "source": [
    "plt.scatter(df['feature1'], df['feature2'])\n",
    "plt.xlabel('Feature 1')\n",
    "plt.ylabel('Feature 2')\n",
    "plt.title('Scatter Plot')\n",
    "plt.show()"
   ]
  },
  {
   "cell_type": "code",
   "execution_count": 29,
   "id": "30d30f4e",
   "metadata": {},
   "outputs": [
    {
     "ename": "NameError",
     "evalue": "name 'feature1_data' is not defined",
     "output_type": "error",
     "traceback": [
      "\u001b[1;31m---------------------------------------------------------------------------\u001b[0m",
      "\u001b[1;31mNameError\u001b[0m                                 Traceback (most recent call last)",
      "Input \u001b[1;32mIn [29]\u001b[0m, in \u001b[0;36m<cell line: 1>\u001b[1;34m()\u001b[0m\n\u001b[1;32m----> 1\u001b[0m plt\u001b[38;5;241m.\u001b[39mscatter(\u001b[43mfeature1_data\u001b[49m, feature2_data)\n\u001b[0;32m      2\u001b[0m plt\u001b[38;5;241m.\u001b[39mxlabel(\u001b[38;5;124m'\u001b[39m\u001b[38;5;124mFeature 1\u001b[39m\u001b[38;5;124m'\u001b[39m)\n\u001b[0;32m      3\u001b[0m plt\u001b[38;5;241m.\u001b[39mylabel(\u001b[38;5;124m'\u001b[39m\u001b[38;5;124mFeature 2\u001b[39m\u001b[38;5;124m'\u001b[39m)\n",
      "\u001b[1;31mNameError\u001b[0m: name 'feature1_data' is not defined"
     ]
    }
   ],
   "source": [
    "plt.scatter(feature1_data, feature2_data)\n",
    "plt.xlabel('Feature 1')\n",
    "plt.ylabel('Feature 2')\n",
    "plt.title('Scatter Plot')\n",
    "plt.show()"
   ]
  },
  {
   "cell_type": "code",
   "execution_count": 30,
   "id": "cb29ecb4",
   "metadata": {},
   "outputs": [
    {
     "ename": "KeyError",
     "evalue": "'Feature1'",
     "output_type": "error",
     "traceback": [
      "\u001b[1;31m---------------------------------------------------------------------------\u001b[0m",
      "\u001b[1;31mKeyError\u001b[0m                                  Traceback (most recent call last)",
      "File \u001b[1;32m~\\anaconda3\\lib\\site-packages\\pandas\\core\\indexes\\base.py:3621\u001b[0m, in \u001b[0;36mIndex.get_loc\u001b[1;34m(self, key, method, tolerance)\u001b[0m\n\u001b[0;32m   3620\u001b[0m \u001b[38;5;28;01mtry\u001b[39;00m:\n\u001b[1;32m-> 3621\u001b[0m     \u001b[38;5;28;01mreturn\u001b[39;00m \u001b[38;5;28;43mself\u001b[39;49m\u001b[38;5;241;43m.\u001b[39;49m\u001b[43m_engine\u001b[49m\u001b[38;5;241;43m.\u001b[39;49m\u001b[43mget_loc\u001b[49m\u001b[43m(\u001b[49m\u001b[43mcasted_key\u001b[49m\u001b[43m)\u001b[49m\n\u001b[0;32m   3622\u001b[0m \u001b[38;5;28;01mexcept\u001b[39;00m \u001b[38;5;167;01mKeyError\u001b[39;00m \u001b[38;5;28;01mas\u001b[39;00m err:\n",
      "File \u001b[1;32m~\\anaconda3\\lib\\site-packages\\pandas\\_libs\\index.pyx:136\u001b[0m, in \u001b[0;36mpandas._libs.index.IndexEngine.get_loc\u001b[1;34m()\u001b[0m\n",
      "File \u001b[1;32m~\\anaconda3\\lib\\site-packages\\pandas\\_libs\\index.pyx:163\u001b[0m, in \u001b[0;36mpandas._libs.index.IndexEngine.get_loc\u001b[1;34m()\u001b[0m\n",
      "File \u001b[1;32mpandas\\_libs\\hashtable_class_helper.pxi:5198\u001b[0m, in \u001b[0;36mpandas._libs.hashtable.PyObjectHashTable.get_item\u001b[1;34m()\u001b[0m\n",
      "File \u001b[1;32mpandas\\_libs\\hashtable_class_helper.pxi:5206\u001b[0m, in \u001b[0;36mpandas._libs.hashtable.PyObjectHashTable.get_item\u001b[1;34m()\u001b[0m\n",
      "\u001b[1;31mKeyError\u001b[0m: 'Feature1'",
      "\nThe above exception was the direct cause of the following exception:\n",
      "\u001b[1;31mKeyError\u001b[0m                                  Traceback (most recent call last)",
      "Input \u001b[1;32mIn [30]\u001b[0m, in \u001b[0;36m<cell line: 1>\u001b[1;34m()\u001b[0m\n\u001b[1;32m----> 1\u001b[0m feature1_data \u001b[38;5;241m=\u001b[39m \u001b[43mdata\u001b[49m\u001b[43m[\u001b[49m\u001b[38;5;124;43m'\u001b[39;49m\u001b[38;5;124;43mFeature1\u001b[39;49m\u001b[38;5;124;43m'\u001b[39;49m\u001b[43m]\u001b[49m\u001b[38;5;241m.\u001b[39mtolist()\n\u001b[0;32m      2\u001b[0m feature2_data \u001b[38;5;241m=\u001b[39m data[\u001b[38;5;124m'\u001b[39m\u001b[38;5;124mFeature2\u001b[39m\u001b[38;5;124m'\u001b[39m]\u001b[38;5;241m.\u001b[39mtolist()\n",
      "File \u001b[1;32m~\\anaconda3\\lib\\site-packages\\pandas\\core\\frame.py:3505\u001b[0m, in \u001b[0;36mDataFrame.__getitem__\u001b[1;34m(self, key)\u001b[0m\n\u001b[0;32m   3503\u001b[0m \u001b[38;5;28;01mif\u001b[39;00m \u001b[38;5;28mself\u001b[39m\u001b[38;5;241m.\u001b[39mcolumns\u001b[38;5;241m.\u001b[39mnlevels \u001b[38;5;241m>\u001b[39m \u001b[38;5;241m1\u001b[39m:\n\u001b[0;32m   3504\u001b[0m     \u001b[38;5;28;01mreturn\u001b[39;00m \u001b[38;5;28mself\u001b[39m\u001b[38;5;241m.\u001b[39m_getitem_multilevel(key)\n\u001b[1;32m-> 3505\u001b[0m indexer \u001b[38;5;241m=\u001b[39m \u001b[38;5;28;43mself\u001b[39;49m\u001b[38;5;241;43m.\u001b[39;49m\u001b[43mcolumns\u001b[49m\u001b[38;5;241;43m.\u001b[39;49m\u001b[43mget_loc\u001b[49m\u001b[43m(\u001b[49m\u001b[43mkey\u001b[49m\u001b[43m)\u001b[49m\n\u001b[0;32m   3506\u001b[0m \u001b[38;5;28;01mif\u001b[39;00m is_integer(indexer):\n\u001b[0;32m   3507\u001b[0m     indexer \u001b[38;5;241m=\u001b[39m [indexer]\n",
      "File \u001b[1;32m~\\anaconda3\\lib\\site-packages\\pandas\\core\\indexes\\base.py:3623\u001b[0m, in \u001b[0;36mIndex.get_loc\u001b[1;34m(self, key, method, tolerance)\u001b[0m\n\u001b[0;32m   3621\u001b[0m     \u001b[38;5;28;01mreturn\u001b[39;00m \u001b[38;5;28mself\u001b[39m\u001b[38;5;241m.\u001b[39m_engine\u001b[38;5;241m.\u001b[39mget_loc(casted_key)\n\u001b[0;32m   3622\u001b[0m \u001b[38;5;28;01mexcept\u001b[39;00m \u001b[38;5;167;01mKeyError\u001b[39;00m \u001b[38;5;28;01mas\u001b[39;00m err:\n\u001b[1;32m-> 3623\u001b[0m     \u001b[38;5;28;01mraise\u001b[39;00m \u001b[38;5;167;01mKeyError\u001b[39;00m(key) \u001b[38;5;28;01mfrom\u001b[39;00m \u001b[38;5;21;01merr\u001b[39;00m\n\u001b[0;32m   3624\u001b[0m \u001b[38;5;28;01mexcept\u001b[39;00m \u001b[38;5;167;01mTypeError\u001b[39;00m:\n\u001b[0;32m   3625\u001b[0m     \u001b[38;5;66;03m# If we have a listlike key, _check_indexing_error will raise\u001b[39;00m\n\u001b[0;32m   3626\u001b[0m     \u001b[38;5;66;03m#  InvalidIndexError. Otherwise we fall through and re-raise\u001b[39;00m\n\u001b[0;32m   3627\u001b[0m     \u001b[38;5;66;03m#  the TypeError.\u001b[39;00m\n\u001b[0;32m   3628\u001b[0m     \u001b[38;5;28mself\u001b[39m\u001b[38;5;241m.\u001b[39m_check_indexing_error(key)\n",
      "\u001b[1;31mKeyError\u001b[0m: 'Feature1'"
     ]
    }
   ],
   "source": [
    "feature1_data = data['Feature1'].tolist()\n",
    "feature2_data = data['Feature2'].tolist()"
   ]
  },
  {
   "cell_type": "code",
   "execution_count": 31,
   "id": "3cd14500",
   "metadata": {},
   "outputs": [],
   "source": [
    "import matplotlib.pyplot as plt\n",
    "import pandas as pd"
   ]
  },
  {
   "cell_type": "code",
   "execution_count": 34,
   "id": "f5beee6e",
   "metadata": {},
   "outputs": [
    {
     "ename": "KeyError",
     "evalue": "'Followers'",
     "output_type": "error",
     "traceback": [
      "\u001b[1;31m---------------------------------------------------------------------------\u001b[0m",
      "\u001b[1;31mKeyError\u001b[0m                                  Traceback (most recent call last)",
      "File \u001b[1;32m~\\anaconda3\\lib\\site-packages\\pandas\\core\\indexes\\base.py:3621\u001b[0m, in \u001b[0;36mIndex.get_loc\u001b[1;34m(self, key, method, tolerance)\u001b[0m\n\u001b[0;32m   3620\u001b[0m \u001b[38;5;28;01mtry\u001b[39;00m:\n\u001b[1;32m-> 3621\u001b[0m     \u001b[38;5;28;01mreturn\u001b[39;00m \u001b[38;5;28;43mself\u001b[39;49m\u001b[38;5;241;43m.\u001b[39;49m\u001b[43m_engine\u001b[49m\u001b[38;5;241;43m.\u001b[39;49m\u001b[43mget_loc\u001b[49m\u001b[43m(\u001b[49m\u001b[43mcasted_key\u001b[49m\u001b[43m)\u001b[49m\n\u001b[0;32m   3622\u001b[0m \u001b[38;5;28;01mexcept\u001b[39;00m \u001b[38;5;167;01mKeyError\u001b[39;00m \u001b[38;5;28;01mas\u001b[39;00m err:\n",
      "File \u001b[1;32m~\\anaconda3\\lib\\site-packages\\pandas\\_libs\\index.pyx:136\u001b[0m, in \u001b[0;36mpandas._libs.index.IndexEngine.get_loc\u001b[1;34m()\u001b[0m\n",
      "File \u001b[1;32m~\\anaconda3\\lib\\site-packages\\pandas\\_libs\\index.pyx:163\u001b[0m, in \u001b[0;36mpandas._libs.index.IndexEngine.get_loc\u001b[1;34m()\u001b[0m\n",
      "File \u001b[1;32mpandas\\_libs\\hashtable_class_helper.pxi:5198\u001b[0m, in \u001b[0;36mpandas._libs.hashtable.PyObjectHashTable.get_item\u001b[1;34m()\u001b[0m\n",
      "File \u001b[1;32mpandas\\_libs\\hashtable_class_helper.pxi:5206\u001b[0m, in \u001b[0;36mpandas._libs.hashtable.PyObjectHashTable.get_item\u001b[1;34m()\u001b[0m\n",
      "\u001b[1;31mKeyError\u001b[0m: 'Followers'",
      "\nThe above exception was the direct cause of the following exception:\n",
      "\u001b[1;31mKeyError\u001b[0m                                  Traceback (most recent call last)",
      "Input \u001b[1;32mIn [34]\u001b[0m, in \u001b[0;36m<cell line: 1>\u001b[1;34m()\u001b[0m\n\u001b[1;32m----> 1\u001b[0m feature1_data \u001b[38;5;241m=\u001b[39m \u001b[43mdata\u001b[49m\u001b[43m[\u001b[49m\u001b[38;5;124;43m'\u001b[39;49m\u001b[38;5;124;43mFollowers\u001b[39;49m\u001b[38;5;124;43m'\u001b[39;49m\u001b[43m]\u001b[49m\u001b[38;5;241m.\u001b[39mtolist()\n\u001b[0;32m      2\u001b[0m feature2_data \u001b[38;5;241m=\u001b[39m data[\u001b[38;5;124m'\u001b[39m\u001b[38;5;124mLikes\u001b[39m\u001b[38;5;124m'\u001b[39m]\u001b[38;5;241m.\u001b[39mtolist()\n",
      "File \u001b[1;32m~\\anaconda3\\lib\\site-packages\\pandas\\core\\frame.py:3505\u001b[0m, in \u001b[0;36mDataFrame.__getitem__\u001b[1;34m(self, key)\u001b[0m\n\u001b[0;32m   3503\u001b[0m \u001b[38;5;28;01mif\u001b[39;00m \u001b[38;5;28mself\u001b[39m\u001b[38;5;241m.\u001b[39mcolumns\u001b[38;5;241m.\u001b[39mnlevels \u001b[38;5;241m>\u001b[39m \u001b[38;5;241m1\u001b[39m:\n\u001b[0;32m   3504\u001b[0m     \u001b[38;5;28;01mreturn\u001b[39;00m \u001b[38;5;28mself\u001b[39m\u001b[38;5;241m.\u001b[39m_getitem_multilevel(key)\n\u001b[1;32m-> 3505\u001b[0m indexer \u001b[38;5;241m=\u001b[39m \u001b[38;5;28;43mself\u001b[39;49m\u001b[38;5;241;43m.\u001b[39;49m\u001b[43mcolumns\u001b[49m\u001b[38;5;241;43m.\u001b[39;49m\u001b[43mget_loc\u001b[49m\u001b[43m(\u001b[49m\u001b[43mkey\u001b[49m\u001b[43m)\u001b[49m\n\u001b[0;32m   3506\u001b[0m \u001b[38;5;28;01mif\u001b[39;00m is_integer(indexer):\n\u001b[0;32m   3507\u001b[0m     indexer \u001b[38;5;241m=\u001b[39m [indexer]\n",
      "File \u001b[1;32m~\\anaconda3\\lib\\site-packages\\pandas\\core\\indexes\\base.py:3623\u001b[0m, in \u001b[0;36mIndex.get_loc\u001b[1;34m(self, key, method, tolerance)\u001b[0m\n\u001b[0;32m   3621\u001b[0m     \u001b[38;5;28;01mreturn\u001b[39;00m \u001b[38;5;28mself\u001b[39m\u001b[38;5;241m.\u001b[39m_engine\u001b[38;5;241m.\u001b[39mget_loc(casted_key)\n\u001b[0;32m   3622\u001b[0m \u001b[38;5;28;01mexcept\u001b[39;00m \u001b[38;5;167;01mKeyError\u001b[39;00m \u001b[38;5;28;01mas\u001b[39;00m err:\n\u001b[1;32m-> 3623\u001b[0m     \u001b[38;5;28;01mraise\u001b[39;00m \u001b[38;5;167;01mKeyError\u001b[39;00m(key) \u001b[38;5;28;01mfrom\u001b[39;00m \u001b[38;5;21;01merr\u001b[39;00m\n\u001b[0;32m   3624\u001b[0m \u001b[38;5;28;01mexcept\u001b[39;00m \u001b[38;5;167;01mTypeError\u001b[39;00m:\n\u001b[0;32m   3625\u001b[0m     \u001b[38;5;66;03m# If we have a listlike key, _check_indexing_error will raise\u001b[39;00m\n\u001b[0;32m   3626\u001b[0m     \u001b[38;5;66;03m#  InvalidIndexError. Otherwise we fall through and re-raise\u001b[39;00m\n\u001b[0;32m   3627\u001b[0m     \u001b[38;5;66;03m#  the TypeError.\u001b[39;00m\n\u001b[0;32m   3628\u001b[0m     \u001b[38;5;28mself\u001b[39m\u001b[38;5;241m.\u001b[39m_check_indexing_error(key)\n",
      "\u001b[1;31mKeyError\u001b[0m: 'Followers'"
     ]
    }
   ],
   "source": [
    "feature1_data = data['Followers'].tolist()\n",
    "feature2_data = data['Likes'].tolist()"
   ]
  },
  {
   "cell_type": "code",
   "execution_count": 35,
   "id": "cd4ddc37",
   "metadata": {},
   "outputs": [
    {
     "ename": "NameError",
     "evalue": "name 'df' is not defined",
     "output_type": "error",
     "traceback": [
      "\u001b[1;31m---------------------------------------------------------------------------\u001b[0m",
      "\u001b[1;31mNameError\u001b[0m                                 Traceback (most recent call last)",
      "Input \u001b[1;32mIn [35]\u001b[0m, in \u001b[0;36m<cell line: 1>\u001b[1;34m()\u001b[0m\n\u001b[1;32m----> 1\u001b[0m sns\u001b[38;5;241m.\u001b[39mbarplot(x\u001b[38;5;241m=\u001b[39m\u001b[38;5;124m'\u001b[39m\u001b[38;5;124mcategory\u001b[39m\u001b[38;5;124m'\u001b[39m, y\u001b[38;5;241m=\u001b[39m\u001b[38;5;124m'\u001b[39m\u001b[38;5;124mvalue\u001b[39m\u001b[38;5;124m'\u001b[39m, data\u001b[38;5;241m=\u001b[39m\u001b[43mdf\u001b[49m)\n\u001b[0;32m      2\u001b[0m plt\u001b[38;5;241m.\u001b[39mxlabel(\u001b[38;5;124m'\u001b[39m\u001b[38;5;124mCategory\u001b[39m\u001b[38;5;124m'\u001b[39m)\n\u001b[0;32m      3\u001b[0m plt\u001b[38;5;241m.\u001b[39mylabel(\u001b[38;5;124m'\u001b[39m\u001b[38;5;124mValue\u001b[39m\u001b[38;5;124m'\u001b[39m)\n",
      "\u001b[1;31mNameError\u001b[0m: name 'df' is not defined"
     ]
    }
   ],
   "source": [
    "sns.barplot(x='category', y='value', data=df)\n",
    "plt.xlabel('Category')\n",
    "plt.ylabel('Value')\n",
    "plt.title('Grouped Bar Chart')\n",
    "plt.show()"
   ]
  },
  {
   "cell_type": "code",
   "execution_count": null,
   "id": "ee4872c6",
   "metadata": {},
   "outputs": [],
   "source": []
  }
 ],
 "metadata": {
  "kernelspec": {
   "display_name": "Python 3 (ipykernel)",
   "language": "python",
   "name": "python3"
  },
  "language_info": {
   "codemirror_mode": {
    "name": "ipython",
    "version": 3
   },
   "file_extension": ".py",
   "mimetype": "text/x-python",
   "name": "python",
   "nbconvert_exporter": "python",
   "pygments_lexer": "ipython3",
   "version": "3.9.12"
  }
 },
 "nbformat": 4,
 "nbformat_minor": 5
}
